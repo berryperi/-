{
  "nbformat": 4,
  "nbformat_minor": 0,
  "metadata": {
    "colab": {
      "provenance": [],
      "gpuType": "V100",
      "authorship_tag": "ABX9TyMqHIm8FpMLPQAqZ+Rkgj9X",
      "include_colab_link": true
    },
    "kernelspec": {
      "name": "python3",
      "display_name": "Python 3"
    },
    "language_info": {
      "name": "python"
    },
    "accelerator": "GPU"
  },
  "cells": [
    {
      "cell_type": "markdown",
      "metadata": {
        "id": "view-in-github",
        "colab_type": "text"
      },
      "source": [
        "<a href=\"https://colab.research.google.com/github/berryperi/project/blob/main/coco%EC%98%88%EC%A0%9C.ipynb\" target=\"_parent\"><img src=\"https://colab.research.google.com/assets/colab-badge.svg\" alt=\"Open In Colab\"/></a>"
      ]
    },
    {
      "cell_type": "code",
      "execution_count": null,
      "metadata": {
        "colab": {
          "base_uri": "https://localhost:8080/"
        },
        "id": "yZ49sLVwrXRb",
        "outputId": "41b2ce85-e85e-4a9d-eb55-e3fb7dfe5bbe"
      },
      "outputs": [
        {
          "output_type": "stream",
          "name": "stdout",
          "text": [
            "--2024-03-17 04:47:22--  http://images.cocodataset.org/annotations/annotations_trainval2017.zip\n",
            "Resolving images.cocodataset.org (images.cocodataset.org)... 16.182.74.97, 52.217.116.57, 52.217.229.121, ...\n",
            "Connecting to images.cocodataset.org (images.cocodataset.org)|16.182.74.97|:80... connected.\n",
            "HTTP request sent, awaiting response... 200 OK\n",
            "Length: 252907541 (241M) [application/zip]\n",
            "Saving to: ‘annotations_trainval2017.zip’\n",
            "\n",
            "annotations_trainva 100%[===================>] 241.19M  94.4MB/s    in 2.6s    \n",
            "\n",
            "2024-03-17 04:47:25 (94.4 MB/s) - ‘annotations_trainval2017.zip’ saved [252907541/252907541]\n",
            "\n",
            "--2024-03-17 04:47:25--  http://images.cocodataset.org/zips/val2017.zip\n",
            "Resolving images.cocodataset.org (images.cocodataset.org)... 3.5.28.246, 54.231.137.97, 16.182.74.25, ...\n",
            "Connecting to images.cocodataset.org (images.cocodataset.org)|3.5.28.246|:80... connected.\n",
            "HTTP request sent, awaiting response... 200 OK\n",
            "Length: 815585330 (778M) [application/zip]\n",
            "Saving to: ‘val2017.zip’\n",
            "\n",
            "val2017.zip         100%[===================>] 777.80M   101MB/s    in 9.0s    \n",
            "\n",
            "2024-03-17 04:47:34 (86.5 MB/s) - ‘val2017.zip’ saved [815585330/815585330]\n",
            "\n",
            "--2024-03-17 04:47:34--  http://images.cocodataset.org/zips/train2017.zip\n",
            "Resolving images.cocodataset.org (images.cocodataset.org)... 3.5.19.145, 16.182.67.225, 54.231.225.209, ...\n",
            "Connecting to images.cocodataset.org (images.cocodataset.org)|3.5.19.145|:80... connected.\n",
            "HTTP request sent, awaiting response... 200 OK\n",
            "Length: 19336861798 (18G) [application/zip]\n",
            "Saving to: ‘train2017.zip’\n",
            "\n",
            "train2017.zip       100%[===================>]  18.01G  81.5MB/s    in 3m 53s  \n",
            "\n",
            "2024-03-17 04:51:27 (79.2 MB/s) - ‘train2017.zip’ saved [19336861798/19336861798]\n",
            "\n"
          ]
        }
      ],
      "source": [
        "!wget http://images.cocodataset.org/annotations/annotations_trainval2017.zip\n",
        "!wget http://images.cocodataset.org/zips/val2017.zip\n",
        "!wget http://images.cocodataset.org/zips/train2017.zip\n",
        "\n",
        "!unzip -q annotations_trainval2017.zip -d /content/\n",
        "!unzip -q train2017.zip -d /content/\n",
        "!unzip -q val2017.zip -d /content/\n",
        "\n",
        "!rm annotations_trainval2017.zip\n",
        "!rm train2017.zip\n",
        "!rm val2017.zip"
      ]
    },
    {
      "cell_type": "code",
      "source": [
        "import cv2\n",
        "from pycocotools.coco import COCO\n",
        "import numpy as np\n",
        "import matplotlib.pyplot as plt\n",
        "import json\n",
        "from PIL import Image, ImageDraw\n",
        "import os\n",
        "import pandas as pd\n",
        "import torch"
      ],
      "metadata": {
        "id": "JCcOur_jz0vO"
      },
      "execution_count": null,
      "outputs": []
    },
    {
      "cell_type": "code",
      "source": [
        "# device 설정 (CUDA 사용 가능한 경우)\n",
        "device = torch.device('cuda') if torch.cuda.is_available() else torch.device('cpu')\n",
        "print(device)"
      ],
      "metadata": {
        "colab": {
          "base_uri": "https://localhost:8080/"
        },
        "id": "sNxwIKbdu7Ia",
        "outputId": "076123de-ff24-4a43-d869-474dcaca62bc"
      },
      "execution_count": null,
      "outputs": [
        {
          "output_type": "stream",
          "name": "stdout",
          "text": [
            "cuda\n"
          ]
        }
      ]
    },
    {
      "cell_type": "code",
      "source": [
        "# 데이터셋 경로\n",
        "train2017='/content/train2017/'\n",
        "train_annotation2017='/content/annotations/instances_train2017.json'\n",
        "val2017='/content/val2017/'\n",
        "val_annotation2017='/content/annotations/instances_val2017.json'"
      ],
      "metadata": {
        "id": "ingZOkLcz4pk"
      },
      "execution_count": null,
      "outputs": []
    },
    {
      "cell_type": "code",
      "source": [
        "# JSON 파일을 불러옴\n",
        "with open(train_annotation2017) as t:\n",
        "    t_data = json.load(t)\n",
        "\n",
        "print(t_data.keys())"
      ],
      "metadata": {
        "colab": {
          "base_uri": "https://localhost:8080/"
        },
        "id": "oNC5IV6409o8",
        "outputId": "ab799354-2b36-4054-e231-52170e59db0a"
      },
      "execution_count": null,
      "outputs": [
        {
          "output_type": "stream",
          "name": "stdout",
          "text": [
            "dict_keys(['info', 'licenses', 'images', 'annotations', 'categories'])\n"
          ]
        }
      ]
    },
    {
      "cell_type": "code",
      "source": [
        "# 데이터를 각각 추출\n",
        "t_annotations = t_data['annotations']\n",
        "t_train_images = t_data['images']\n",
        "t_categories = t_data['categories']\n",
        "\n",
        "# pandas 데이터프레임으로 변환\n",
        "t_annotations_df = pd.DataFrame(t_annotations)\n",
        "t_images_df = pd.DataFrame(t_train_images)\n",
        "t_categories_df = pd.DataFrame(t_categories)"
      ],
      "metadata": {
        "id": "6Dy13yIR1XbP"
      },
      "execution_count": null,
      "outputs": []
    },
    {
      "cell_type": "code",
      "source": [
        "# JSON 파일을 불러옴\n",
        "with open(val_annotation2017) as v:\n",
        "    v_data = json.load(v)\n",
        "\n",
        "# 데이터를 각각 추출\n",
        "v_annotations = v_data['annotations']\n",
        "v_train_images = v_data['images']\n",
        "v_categories = v_data['categories']\n",
        "\n",
        "# pandas 데이터프레임으로 변환\n",
        "v_annotations_df = pd.DataFrame(v_annotations)\n",
        "v_images_df = pd.DataFrame(v_train_images)\n",
        "v_categories_df = pd.DataFrame(v_categories)"
      ],
      "metadata": {
        "id": "yOOT6ehk1hUo"
      },
      "execution_count": null,
      "outputs": []
    },
    {
      "cell_type": "code",
      "source": [
        "t_annotations_df.info()"
      ],
      "metadata": {
        "id": "v4vRzEL9vhiN"
      },
      "execution_count": null,
      "outputs": []
    },
    {
      "cell_type": "code",
      "source": [
        "v_annotations_df.info()"
      ],
      "metadata": {
        "id": "ABA4pUpbvlHm"
      },
      "execution_count": null,
      "outputs": []
    },
    {
      "cell_type": "code",
      "source": [
        "t_images_df.info()"
      ],
      "metadata": {
        "id": "iQYd6gBTvmI0"
      },
      "execution_count": null,
      "outputs": []
    },
    {
      "cell_type": "code",
      "source": [
        "v_images_df.info()"
      ],
      "metadata": {
        "id": "8fOFNBzbvnjh"
      },
      "execution_count": null,
      "outputs": []
    },
    {
      "cell_type": "code",
      "source": [
        "t_categories_df.info()"
      ],
      "metadata": {
        "id": "OUxsv2y0vnby"
      },
      "execution_count": null,
      "outputs": []
    },
    {
      "cell_type": "code",
      "source": [
        "v_categories_df.info()"
      ],
      "metadata": {
        "id": "3tbqC17cvnX_"
      },
      "execution_count": null,
      "outputs": []
    },
    {
      "cell_type": "code",
      "source": [
        "#  두 데이터프레임을 'id'와 'image_id' 열을 기준으로 내부 머지\n",
        "train_df = pd.merge(t_images_df, t_annotations_df, how=\"inner\", left_on='id', right_on='image_id')\n",
        "\n",
        "# 기존 데이터프레임과 카테고리 데이터프레임을 내부 머지\n",
        "train_df = pd.merge(train_df, t_categories_df, how=\"inner\", left_on='category_id', right_on='id')\n",
        "\n",
        "# 불필요한 열을 제거\n",
        "train_df.drop([\"id_x\", \"id\"], axis=1, inplace=True)\n",
        "\n",
        "# 열 이름을 직관적으로 변경\n",
        "train_df.rename(columns={\n",
        "    \"id_y\": \"object_id\",\n",
        "    \"name\": \"category_name\"\n",
        "}, inplace=True)"
      ],
      "metadata": {
        "id": "iGAHjiAk1rIN"
      },
      "execution_count": null,
      "outputs": []
    },
    {
      "cell_type": "code",
      "source": [
        "#  두 데이터프레임을 'id'와 'image_id' 열을 기준으로 내부 머지\n",
        "val_df = pd.merge(v_images_df, v_annotations_df, how=\"inner\", left_on='id', right_on='image_id')\n",
        "\n",
        "# 기존 데이터프레임과 카테고리 데이터프레임을 내부 머지\n",
        "val_df = pd.merge(val_df, v_categories_df, how=\"inner\", left_on='category_id', right_on='id')\n",
        "\n",
        "# 불필요한 열을 제거\n",
        "val_df.drop([\"id_x\", \"id\"], axis=1, inplace=True)\n",
        "\n",
        "# 열 이름을 직관적으로 변경\n",
        "val_df.rename(columns={\n",
        "    \"id_y\": \"object_id\",\n",
        "    \"name\": \"category_name\"\n",
        "}, inplace=True)"
      ],
      "metadata": {
        "id": "Gu59J7Lv1swP"
      },
      "execution_count": null,
      "outputs": []
    },
    {
      "cell_type": "code",
      "source": [
        "train_df.info()"
      ],
      "metadata": {
        "id": "PgMVLSysv586"
      },
      "execution_count": null,
      "outputs": []
    },
    {
      "cell_type": "code",
      "source": [
        "val_df.info()"
      ],
      "metadata": {
        "colab": {
          "base_uri": "https://localhost:8080/",
          "height": 236
        },
        "id": "wkSJ88PN17S1",
        "outputId": "8683f173-0521-4ffe-c5e9-7e4a414c59ea"
      },
      "execution_count": null,
      "outputs": [
        {
          "output_type": "execute_result",
          "data": {
            "text/plain": [
              "   license         file_name  \\\n",
              "0        4  000000397133.jpg   \n",
              "1        3  000000355257.jpg   \n",
              "\n",
              "                                            coco_url  height  width  \\\n",
              "0  http://images.cocodataset.org/val2017/00000039...     427    640   \n",
              "1  http://images.cocodataset.org/val2017/00000035...     427    640   \n",
              "\n",
              "         date_captured                                         flickr_url  \\\n",
              "0  2013-11-14 17:02:52  http://farm7.staticflickr.com/6116/6255196340_...   \n",
              "1  2013-11-20 23:51:16  http://farm3.staticflickr.com/2869/8759177830_...   \n",
              "\n",
              "                                        segmentation        area  iscrowd  \\\n",
              "0  [[224.24, 297.18, 228.29, 297.18, 234.91, 298....  1481.38065        0   \n",
              "1  [[267.63, 91.78, 257.63, 88.59, 257.63, 80.59,...  1864.97305        0   \n",
              "\n",
              "   image_id                            bbox  category_id  object_id  \\\n",
              "0    397133  [217.62, 240.54, 38.99, 57.75]           44      82445   \n",
              "1    355257   [250.44, 11.04, 26.78, 81.94]           44      92491   \n",
              "\n",
              "  supercategory category_name  \n",
              "0       kitchen        bottle  \n",
              "1       kitchen        bottle  "
            ],
            "text/html": [
              "\n",
              "  <div id=\"df-44b98787-2ff7-4711-aa8d-cd01cec7927b\" class=\"colab-df-container\">\n",
              "    <div>\n",
              "<style scoped>\n",
              "    .dataframe tbody tr th:only-of-type {\n",
              "        vertical-align: middle;\n",
              "    }\n",
              "\n",
              "    .dataframe tbody tr th {\n",
              "        vertical-align: top;\n",
              "    }\n",
              "\n",
              "    .dataframe thead th {\n",
              "        text-align: right;\n",
              "    }\n",
              "</style>\n",
              "<table border=\"1\" class=\"dataframe\">\n",
              "  <thead>\n",
              "    <tr style=\"text-align: right;\">\n",
              "      <th></th>\n",
              "      <th>license</th>\n",
              "      <th>file_name</th>\n",
              "      <th>coco_url</th>\n",
              "      <th>height</th>\n",
              "      <th>width</th>\n",
              "      <th>date_captured</th>\n",
              "      <th>flickr_url</th>\n",
              "      <th>segmentation</th>\n",
              "      <th>area</th>\n",
              "      <th>iscrowd</th>\n",
              "      <th>image_id</th>\n",
              "      <th>bbox</th>\n",
              "      <th>category_id</th>\n",
              "      <th>object_id</th>\n",
              "      <th>supercategory</th>\n",
              "      <th>category_name</th>\n",
              "    </tr>\n",
              "  </thead>\n",
              "  <tbody>\n",
              "    <tr>\n",
              "      <th>0</th>\n",
              "      <td>4</td>\n",
              "      <td>000000397133.jpg</td>\n",
              "      <td>http://images.cocodataset.org/val2017/00000039...</td>\n",
              "      <td>427</td>\n",
              "      <td>640</td>\n",
              "      <td>2013-11-14 17:02:52</td>\n",
              "      <td>http://farm7.staticflickr.com/6116/6255196340_...</td>\n",
              "      <td>[[224.24, 297.18, 228.29, 297.18, 234.91, 298....</td>\n",
              "      <td>1481.38065</td>\n",
              "      <td>0</td>\n",
              "      <td>397133</td>\n",
              "      <td>[217.62, 240.54, 38.99, 57.75]</td>\n",
              "      <td>44</td>\n",
              "      <td>82445</td>\n",
              "      <td>kitchen</td>\n",
              "      <td>bottle</td>\n",
              "    </tr>\n",
              "    <tr>\n",
              "      <th>1</th>\n",
              "      <td>3</td>\n",
              "      <td>000000355257.jpg</td>\n",
              "      <td>http://images.cocodataset.org/val2017/00000035...</td>\n",
              "      <td>427</td>\n",
              "      <td>640</td>\n",
              "      <td>2013-11-20 23:51:16</td>\n",
              "      <td>http://farm3.staticflickr.com/2869/8759177830_...</td>\n",
              "      <td>[[267.63, 91.78, 257.63, 88.59, 257.63, 80.59,...</td>\n",
              "      <td>1864.97305</td>\n",
              "      <td>0</td>\n",
              "      <td>355257</td>\n",
              "      <td>[250.44, 11.04, 26.78, 81.94]</td>\n",
              "      <td>44</td>\n",
              "      <td>92491</td>\n",
              "      <td>kitchen</td>\n",
              "      <td>bottle</td>\n",
              "    </tr>\n",
              "  </tbody>\n",
              "</table>\n",
              "</div>\n",
              "    <div class=\"colab-df-buttons\">\n",
              "\n",
              "  <div class=\"colab-df-container\">\n",
              "    <button class=\"colab-df-convert\" onclick=\"convertToInteractive('df-44b98787-2ff7-4711-aa8d-cd01cec7927b')\"\n",
              "            title=\"Convert this dataframe to an interactive table.\"\n",
              "            style=\"display:none;\">\n",
              "\n",
              "  <svg xmlns=\"http://www.w3.org/2000/svg\" height=\"24px\" viewBox=\"0 -960 960 960\">\n",
              "    <path d=\"M120-120v-720h720v720H120Zm60-500h600v-160H180v160Zm220 220h160v-160H400v160Zm0 220h160v-160H400v160ZM180-400h160v-160H180v160Zm440 0h160v-160H620v160ZM180-180h160v-160H180v160Zm440 0h160v-160H620v160Z\"/>\n",
              "  </svg>\n",
              "    </button>\n",
              "\n",
              "  <style>\n",
              "    .colab-df-container {\n",
              "      display:flex;\n",
              "      gap: 12px;\n",
              "    }\n",
              "\n",
              "    .colab-df-convert {\n",
              "      background-color: #E8F0FE;\n",
              "      border: none;\n",
              "      border-radius: 50%;\n",
              "      cursor: pointer;\n",
              "      display: none;\n",
              "      fill: #1967D2;\n",
              "      height: 32px;\n",
              "      padding: 0 0 0 0;\n",
              "      width: 32px;\n",
              "    }\n",
              "\n",
              "    .colab-df-convert:hover {\n",
              "      background-color: #E2EBFA;\n",
              "      box-shadow: 0px 1px 2px rgba(60, 64, 67, 0.3), 0px 1px 3px 1px rgba(60, 64, 67, 0.15);\n",
              "      fill: #174EA6;\n",
              "    }\n",
              "\n",
              "    .colab-df-buttons div {\n",
              "      margin-bottom: 4px;\n",
              "    }\n",
              "\n",
              "    [theme=dark] .colab-df-convert {\n",
              "      background-color: #3B4455;\n",
              "      fill: #D2E3FC;\n",
              "    }\n",
              "\n",
              "    [theme=dark] .colab-df-convert:hover {\n",
              "      background-color: #434B5C;\n",
              "      box-shadow: 0px 1px 3px 1px rgba(0, 0, 0, 0.15);\n",
              "      filter: drop-shadow(0px 1px 2px rgba(0, 0, 0, 0.3));\n",
              "      fill: #FFFFFF;\n",
              "    }\n",
              "  </style>\n",
              "\n",
              "    <script>\n",
              "      const buttonEl =\n",
              "        document.querySelector('#df-44b98787-2ff7-4711-aa8d-cd01cec7927b button.colab-df-convert');\n",
              "      buttonEl.style.display =\n",
              "        google.colab.kernel.accessAllowed ? 'block' : 'none';\n",
              "\n",
              "      async function convertToInteractive(key) {\n",
              "        const element = document.querySelector('#df-44b98787-2ff7-4711-aa8d-cd01cec7927b');\n",
              "        const dataTable =\n",
              "          await google.colab.kernel.invokeFunction('convertToInteractive',\n",
              "                                                    [key], {});\n",
              "        if (!dataTable) return;\n",
              "\n",
              "        const docLinkHtml = 'Like what you see? Visit the ' +\n",
              "          '<a target=\"_blank\" href=https://colab.research.google.com/notebooks/data_table.ipynb>data table notebook</a>'\n",
              "          + ' to learn more about interactive tables.';\n",
              "        element.innerHTML = '';\n",
              "        dataTable['output_type'] = 'display_data';\n",
              "        await google.colab.output.renderOutput(dataTable, element);\n",
              "        const docLink = document.createElement('div');\n",
              "        docLink.innerHTML = docLinkHtml;\n",
              "        element.appendChild(docLink);\n",
              "      }\n",
              "    </script>\n",
              "  </div>\n",
              "\n",
              "\n",
              "<div id=\"df-d09fcca9-4c85-4e00-99f6-ed77576b6c81\">\n",
              "  <button class=\"colab-df-quickchart\" onclick=\"quickchart('df-d09fcca9-4c85-4e00-99f6-ed77576b6c81')\"\n",
              "            title=\"Suggest charts\"\n",
              "            style=\"display:none;\">\n",
              "\n",
              "<svg xmlns=\"http://www.w3.org/2000/svg\" height=\"24px\"viewBox=\"0 0 24 24\"\n",
              "     width=\"24px\">\n",
              "    <g>\n",
              "        <path d=\"M19 3H5c-1.1 0-2 .9-2 2v14c0 1.1.9 2 2 2h14c1.1 0 2-.9 2-2V5c0-1.1-.9-2-2-2zM9 17H7v-7h2v7zm4 0h-2V7h2v10zm4 0h-2v-4h2v4z\"/>\n",
              "    </g>\n",
              "</svg>\n",
              "  </button>\n",
              "\n",
              "<style>\n",
              "  .colab-df-quickchart {\n",
              "      --bg-color: #E8F0FE;\n",
              "      --fill-color: #1967D2;\n",
              "      --hover-bg-color: #E2EBFA;\n",
              "      --hover-fill-color: #174EA6;\n",
              "      --disabled-fill-color: #AAA;\n",
              "      --disabled-bg-color: #DDD;\n",
              "  }\n",
              "\n",
              "  [theme=dark] .colab-df-quickchart {\n",
              "      --bg-color: #3B4455;\n",
              "      --fill-color: #D2E3FC;\n",
              "      --hover-bg-color: #434B5C;\n",
              "      --hover-fill-color: #FFFFFF;\n",
              "      --disabled-bg-color: #3B4455;\n",
              "      --disabled-fill-color: #666;\n",
              "  }\n",
              "\n",
              "  .colab-df-quickchart {\n",
              "    background-color: var(--bg-color);\n",
              "    border: none;\n",
              "    border-radius: 50%;\n",
              "    cursor: pointer;\n",
              "    display: none;\n",
              "    fill: var(--fill-color);\n",
              "    height: 32px;\n",
              "    padding: 0;\n",
              "    width: 32px;\n",
              "  }\n",
              "\n",
              "  .colab-df-quickchart:hover {\n",
              "    background-color: var(--hover-bg-color);\n",
              "    box-shadow: 0 1px 2px rgba(60, 64, 67, 0.3), 0 1px 3px 1px rgba(60, 64, 67, 0.15);\n",
              "    fill: var(--button-hover-fill-color);\n",
              "  }\n",
              "\n",
              "  .colab-df-quickchart-complete:disabled,\n",
              "  .colab-df-quickchart-complete:disabled:hover {\n",
              "    background-color: var(--disabled-bg-color);\n",
              "    fill: var(--disabled-fill-color);\n",
              "    box-shadow: none;\n",
              "  }\n",
              "\n",
              "  .colab-df-spinner {\n",
              "    border: 2px solid var(--fill-color);\n",
              "    border-color: transparent;\n",
              "    border-bottom-color: var(--fill-color);\n",
              "    animation:\n",
              "      spin 1s steps(1) infinite;\n",
              "  }\n",
              "\n",
              "  @keyframes spin {\n",
              "    0% {\n",
              "      border-color: transparent;\n",
              "      border-bottom-color: var(--fill-color);\n",
              "      border-left-color: var(--fill-color);\n",
              "    }\n",
              "    20% {\n",
              "      border-color: transparent;\n",
              "      border-left-color: var(--fill-color);\n",
              "      border-top-color: var(--fill-color);\n",
              "    }\n",
              "    30% {\n",
              "      border-color: transparent;\n",
              "      border-left-color: var(--fill-color);\n",
              "      border-top-color: var(--fill-color);\n",
              "      border-right-color: var(--fill-color);\n",
              "    }\n",
              "    40% {\n",
              "      border-color: transparent;\n",
              "      border-right-color: var(--fill-color);\n",
              "      border-top-color: var(--fill-color);\n",
              "    }\n",
              "    60% {\n",
              "      border-color: transparent;\n",
              "      border-right-color: var(--fill-color);\n",
              "    }\n",
              "    80% {\n",
              "      border-color: transparent;\n",
              "      border-right-color: var(--fill-color);\n",
              "      border-bottom-color: var(--fill-color);\n",
              "    }\n",
              "    90% {\n",
              "      border-color: transparent;\n",
              "      border-bottom-color: var(--fill-color);\n",
              "    }\n",
              "  }\n",
              "</style>\n",
              "\n",
              "  <script>\n",
              "    async function quickchart(key) {\n",
              "      const quickchartButtonEl =\n",
              "        document.querySelector('#' + key + ' button');\n",
              "      quickchartButtonEl.disabled = true;  // To prevent multiple clicks.\n",
              "      quickchartButtonEl.classList.add('colab-df-spinner');\n",
              "      try {\n",
              "        const charts = await google.colab.kernel.invokeFunction(\n",
              "            'suggestCharts', [key], {});\n",
              "      } catch (error) {\n",
              "        console.error('Error during call to suggestCharts:', error);\n",
              "      }\n",
              "      quickchartButtonEl.classList.remove('colab-df-spinner');\n",
              "      quickchartButtonEl.classList.add('colab-df-quickchart-complete');\n",
              "    }\n",
              "    (() => {\n",
              "      let quickchartButtonEl =\n",
              "        document.querySelector('#df-d09fcca9-4c85-4e00-99f6-ed77576b6c81 button');\n",
              "      quickchartButtonEl.style.display =\n",
              "        google.colab.kernel.accessAllowed ? 'block' : 'none';\n",
              "    })();\n",
              "  </script>\n",
              "</div>\n",
              "\n",
              "    </div>\n",
              "  </div>\n"
            ],
            "application/vnd.google.colaboratory.intrinsic+json": {
              "type": "dataframe",
              "variable_name": "val_df",
              "summary": "{\n  \"name\": \"val_df\",\n  \"rows\": 36781,\n  \"fields\": [\n    {\n      \"column\": \"license\",\n      \"properties\": {\n        \"dtype\": \"number\",\n        \"std\": 1,\n        \"min\": 1,\n        \"max\": 7,\n        \"num_unique_values\": 7,\n        \"samples\": [\n          4,\n          3,\n          5\n        ],\n        \"semantic_type\": \"\",\n        \"description\": \"\"\n      }\n    },\n    {\n      \"column\": \"file_name\",\n      \"properties\": {\n        \"dtype\": \"category\",\n        \"num_unique_values\": 4952,\n        \"samples\": [\n          \"000000189475.jpg\",\n          \"000000473121.jpg\",\n          \"000000350023.jpg\"\n        ],\n        \"semantic_type\": \"\",\n        \"description\": \"\"\n      }\n    },\n    {\n      \"column\": \"coco_url\",\n      \"properties\": {\n        \"dtype\": \"category\",\n        \"num_unique_values\": 4952,\n        \"samples\": [\n          \"http://images.cocodataset.org/val2017/000000189475.jpg\",\n          \"http://images.cocodataset.org/val2017/000000473121.jpg\",\n          \"http://images.cocodataset.org/val2017/000000350023.jpg\"\n        ],\n        \"semantic_type\": \"\",\n        \"description\": \"\"\n      }\n    },\n    {\n      \"column\": \"height\",\n      \"properties\": {\n        \"dtype\": \"number\",\n        \"std\": 93,\n        \"min\": 145,\n        \"max\": 640,\n        \"num_unique_values\": 299,\n        \"samples\": [\n          606,\n          541,\n          180\n        ],\n        \"semantic_type\": \"\",\n        \"description\": \"\"\n      }\n    },\n    {\n      \"column\": \"width\",\n      \"properties\": {\n        \"dtype\": \"number\",\n        \"std\": 88,\n        \"min\": 200,\n        \"max\": 640,\n        \"num_unique_values\": 220,\n        \"samples\": [\n          329,\n          305,\n          468\n        ],\n        \"semantic_type\": \"\",\n        \"description\": \"\"\n      }\n    },\n    {\n      \"column\": \"date_captured\",\n      \"properties\": {\n        \"dtype\": \"object\",\n        \"num_unique_values\": 4939,\n        \"samples\": [\n          \"2013-11-18 20:39:29\",\n          \"2013-11-18 06:09:34\",\n          \"2013-11-15 05:08:46\"\n        ],\n        \"semantic_type\": \"\",\n        \"description\": \"\"\n      }\n    },\n    {\n      \"column\": \"flickr_url\",\n      \"properties\": {\n        \"dtype\": \"category\",\n        \"num_unique_values\": 4952,\n        \"samples\": [\n          \"http://farm4.staticflickr.com/3473/3758038114_a3a54862a3_z.jpg\",\n          \"http://farm3.staticflickr.com/2744/4279149681_0880b820d0_z.jpg\",\n          \"http://farm4.staticflickr.com/3275/2838112020_69cf2381cb_z.jpg\"\n        ],\n        \"semantic_type\": \"\",\n        \"description\": \"\"\n      }\n    },\n    {\n      \"column\": \"segmentation\",\n      \"properties\": {\n        \"dtype\": \"object\",\n        \"semantic_type\": \"\",\n        \"description\": \"\"\n      }\n    },\n    {\n      \"column\": \"area\",\n      \"properties\": {\n        \"dtype\": \"number\",\n        \"std\": 29416.673998890426,\n        \"min\": 1.0004499999999878,\n        \"max\": 393093.96420000005,\n        \"num_unique_values\": 36772,\n        \"samples\": [\n          33833.09685,\n          108316.66515000002,\n          242.30614999999966\n        ],\n        \"semantic_type\": \"\",\n        \"description\": \"\"\n      }\n    },\n    {\n      \"column\": \"iscrowd\",\n      \"properties\": {\n        \"dtype\": \"number\",\n        \"std\": 0,\n        \"min\": 0,\n        \"max\": 1,\n        \"num_unique_values\": 2,\n        \"samples\": [\n          1,\n          0\n        ],\n        \"semantic_type\": \"\",\n        \"description\": \"\"\n      }\n    },\n    {\n      \"column\": \"image_id\",\n      \"properties\": {\n        \"dtype\": \"number\",\n        \"std\": 166597,\n        \"min\": 139,\n        \"max\": 581781,\n        \"num_unique_values\": 4952,\n        \"samples\": [\n          189475,\n          473121\n        ],\n        \"semantic_type\": \"\",\n        \"description\": \"\"\n      }\n    },\n    {\n      \"column\": \"bbox\",\n      \"properties\": {\n        \"dtype\": \"object\",\n        \"semantic_type\": \"\",\n        \"description\": \"\"\n      }\n    },\n    {\n      \"column\": \"category_id\",\n      \"properties\": {\n        \"dtype\": \"number\",\n        \"std\": 28,\n        \"min\": 1,\n        \"max\": 90,\n        \"num_unique_values\": 80,\n        \"samples\": [\n          63,\n          44\n        ],\n        \"semantic_type\": \"\",\n        \"description\": \"\"\n      }\n    },\n    {\n      \"column\": \"object_id\",\n      \"properties\": {\n        \"dtype\": \"number\",\n        \"std\": 98748514184,\n        \"min\": 283,\n        \"max\": 908800474293,\n        \"num_unique_values\": 36781,\n        \"samples\": [\n          1502271,\n          1437016\n        ],\n        \"semantic_type\": \"\",\n        \"description\": \"\"\n      }\n    },\n    {\n      \"column\": \"supercategory\",\n      \"properties\": {\n        \"dtype\": \"category\",\n        \"num_unique_values\": 12,\n        \"samples\": [\n          \"electronic\",\n          \"animal\"\n        ],\n        \"semantic_type\": \"\",\n        \"description\": \"\"\n      }\n    },\n    {\n      \"column\": \"category_name\",\n      \"properties\": {\n        \"dtype\": \"category\",\n        \"num_unique_values\": 80,\n        \"samples\": [\n          \"couch\",\n          \"bottle\"\n        ],\n        \"semantic_type\": \"\",\n        \"description\": \"\"\n      }\n    }\n  ]\n}"
            }
          },
          "metadata": {},
          "execution_count": 53
        }
      ]
    },
    {
      "cell_type": "code",
      "source": [
        "# train_df에서 랜덤하게 하나의 row를 선택\n",
        "random_row = train_df.sample(n=1).iloc[0]\n",
        "\n",
        "# 이미지 파일 경로를 구성\n",
        "img_path = os.path.join(train2017, random_row['file_name'])\n",
        "\n",
        "# 이미지를 불러옴\n",
        "image = cv2.imread(img_path)\n",
        "\n",
        "# OpenCV는 이미지를 BGR 형식으로 불러오므로, plt로 표시하기 전에 RGB 형식으로 변환\n",
        "image_rgb = cv2.cvtColor(image, cv2.COLOR_BGR2RGB)\n",
        "\n",
        "# 이미지를 표시\n",
        "plt.imshow(image_rgb)\n",
        "plt.axis('off')  # 축 정보 제거\n",
        "plt.show()"
      ],
      "metadata": {
        "id": "0aLK9k-Uv98l"
      },
      "execution_count": null,
      "outputs": []
    },
    {
      "cell_type": "code",
      "source": [
        "# train_df에서 이미지와 같은 image_id를 가진 모든 어노테이션을 선택\n",
        "image_annotations = train_df[train_df['image_id'] == random_row['image_id']]\n",
        "\n",
        "# 이미지에 어노테이션을 시각화\n",
        "for _, ann in image_annotations.iterrows():\n",
        "    # 바운딩 박스 그리기\n",
        "    bbox = np.array(ann['bbox']).astype(int)\n",
        "    cv2.rectangle(image_rgb, ((bbox[0]), (bbox[1])),\n",
        "                  ((bbox[0] + bbox[2]), (bbox[1] + bbox[3])), (255, 0, 0), 1)\n",
        "\n",
        "    # 카테고리 이름 표시\n",
        "    cat_name = ann['category_name']\n",
        "    cv2.putText(image_rgb, cat_name, ((bbox[0]), (bbox[1] - 10)),\n",
        "                cv2.FONT_HERSHEY_SIMPLEX, 0.5, (255, 0, 0), 2)\n",
        "\n",
        "    # Segmentation 그리기\n",
        "    if type(ann['segmentation']) == list:\n",
        "        for segmentation in ann['segmentation']:\n",
        "            poly = np.array(segmentation).reshape((-1, 1, 2))\n",
        "            cv2.polylines(image_rgb, [poly.astype(np.int32)], True, (0, 255, 0), 2)\n",
        "\n",
        "# 변경된 이미지를 시각화\n",
        "plt.imshow(image_rgb)\n",
        "plt.axis('off')\n",
        "plt.show()"
      ],
      "metadata": {
        "id": "7cKi8JDNv96f"
      },
      "execution_count": null,
      "outputs": []
    },
    {
      "cell_type": "code",
      "source": [
        "# 'person' 카테고리에 해당하는 category_id 찾기\n",
        "person_category_id = t_categories_df[t_categories_df['name'] == 'person']['id'].iloc[0]\n",
        "\n",
        "# 랜덤하게 4장의 이미지를 선택\n",
        "sample_images = train_df.sample(n=4)\n",
        "\n",
        "# 2x2 서브플롯 생성\n",
        "fig, axs = plt.subplots(2, 2, figsize=(10, 10))\n",
        "axs = axs.ravel()\n",
        "\n",
        "for i, (_, row) in enumerate(sample_images.iterrows()):\n",
        "    # 이미지 파일 경로\n",
        "    img_path = os.path.join(train2017, row['file_name'])\n",
        "    # 이미지를 불러옴\n",
        "    image = cv2.imread(img_path)\n",
        "    # OpenCV는 이미지를 BGR 형식으로 불러오므로, plt로 표시하기 전에 RGB 형식으로 변환\n",
        "    image_rgb = cv2.cvtColor(image, cv2.COLOR_BGR2RGB)\n",
        "    # 현재 이미지에 대한 어노테이션을 선택\n",
        "    image_annotations = train_df[(train_df['image_id'] == row['image_id']) & (train_df['category_id'] == person_category_id)]\n",
        "\n",
        "    # 이미지에 어노테이션을 시각화\n",
        "    for _, ann in image_annotations.iterrows():\n",
        "        # 바운딩 박스 그리기\n",
        "        bbox = np.array(ann['bbox']).astype(int)\n",
        "        cv2.rectangle(image_rgb, (bbox[0], bbox[1]), (bbox[0] + bbox[2], bbox[1] + bbox[3]),\n",
        "                      (255, 0, 0), 1)\n",
        "\n",
        "        # 카테고리 이름 표시\n",
        "        cat_name = ann['category_name']\n",
        "        cv2.putText(image_rgb, cat_name, (bbox[0], bbox[1] - 10),\n",
        "                    cv2.FONT_HERSHEY_SIMPLEX, 0.5, (255, 0, 0), 2)\n",
        "\n",
        "        # Segmentation 그리기\n",
        "        if type(ann['segmentation']) == list:\n",
        "            for segmentation in ann['segmentation']:\n",
        "                poly = np.array(segmentation).reshape((-1, 1, 2))\n",
        "                cv2.polylines(image_rgb, [poly.astype(np.int32)], True, (0, 255, 0), 2)\n",
        "\n",
        "    # 서브플롯에 이미지를 표시\n",
        "    axs[i].imshow(image_rgb)\n",
        "    axs[i].axis('off')\n",
        "\n",
        "plt.tight_layout()\n",
        "plt.show()"
      ],
      "metadata": {
        "id": "L5_rLwj8v94i"
      },
      "execution_count": null,
      "outputs": []
    },
    {
      "cell_type": "code",
      "source": [
        "from torchvision.transforms import transforms\n",
        "\n",
        "# 변환 정의\n",
        "transform = transforms.Compose([\n",
        "    transforms.Resize((224, 224)),  # 이미지 크기 조정\n",
        "    transforms.ToTensor(),  # 이미지를 Tensor로 변환\n",
        "    transforms.Normalize(mean=[0.485, 0.456, 0.406], std=[0.229, 0.224, 0.225]),  # 정규화\n",
        "])"
      ],
      "metadata": {
        "id": "2zEy6BPCv92k"
      },
      "execution_count": null,
      "outputs": []
    },
    {
      "cell_type": "code",
      "source": [
        "from torchvision.transforms.functional import to_pil_image\n",
        "import torch\n",
        "\n",
        "# PIL 이미지로 변환\n",
        "image_pil = Image.fromarray(image_rgb)\n",
        "\n",
        "# 정의된 변환 적용\n",
        "transformed_image = transform(image_pil)\n",
        "\n",
        "# Tensor 이미지를 시각화하기 위해 (C, H, W)에서 (H, W, C)로 변경하고, [0, 1] 범위로 정규화\n",
        "transformed_image_np = transformed_image.numpy().transpose((1, 2, 0))\n",
        "transformed_image_np = np.clip(transformed_image_np * np.array([0.229, 0.224, 0.225]) + np.array([0.485, 0.456, 0.406]), 0, 1)\n",
        "\n",
        "# 시각화\n",
        "plt.figure(figsize=(6, 6))\n",
        "plt.imshow(transformed_image_np)\n",
        "plt.axis('off')\n",
        "plt.show()"
      ],
      "metadata": {
        "id": "qLpwfoX2v9yN"
      },
      "execution_count": null,
      "outputs": []
    },
    {
      "cell_type": "code",
      "source": [
        "from sklearn.preprocessing import LabelEncoder\n",
        "\n",
        "# LabelEncoder 인스턴스 생성\n",
        "label_encoder = LabelEncoder()\n",
        "\n",
        "train_df['category_name_encoded'] = label_encoder.fit_transform(train_df['category_name'])\n",
        "val_df['category_name_encoded'] = label_encoder.fit_transform(val_df['category_name'])\n",
        "\n",
        "train_df['supercategory_encoded'] = label_encoder.fit_transform(train_df['supercategory'])\n",
        "val_df['supercategory_encoded'] = label_encoder.fit_transform(val_df['supercategory'])"
      ],
      "metadata": {
        "id": "iRuaF6TD_FB6"
      },
      "execution_count": null,
      "outputs": []
    },
    {
      "cell_type": "code",
      "source": [
        "t_person_encoded = train_df[train_df['category_name'] == 'person']['category_name_encoded'].values[0]\n",
        "print(\"t_Person 인코딩된 값:\", t_person_encoded)\n",
        "\n",
        "v_person_encoded = val_df[val_df['category_name'] == 'person']['category_name_encoded'].values[0]\n",
        "print(\"v_Person 인코딩된 값:\", v_person_encoded)"
      ],
      "metadata": {
        "colab": {
          "base_uri": "https://localhost:8080/"
        },
        "id": "apedkmKFKkCv",
        "outputId": "d574cc99-570e-4a29-a6eb-4a337bcea77a"
      },
      "execution_count": null,
      "outputs": [
        {
          "output_type": "stream",
          "name": "stdout",
          "text": [
            "t_Person 인코딩된 값: 49\n",
            "v_Person 인코딩된 값: 49\n"
          ]
        }
      ]
    },
    {
      "cell_type": "code",
      "source": [
        "train_df.drop(columns=['category_name', 'supercategory', 'coco_url', 'date_captured', 'flickr_url'], inplace=True)\n",
        "val_df.drop(columns=['category_name', 'supercategory', 'coco_url', 'date_captured', 'flickr_url'], inplace=True)"
      ],
      "metadata": {
        "id": "dB5pSIs4AVMb"
      },
      "execution_count": null,
      "outputs": []
    },
    {
      "cell_type": "code",
      "source": [
        "val_df.info()"
      ],
      "metadata": {
        "colab": {
          "base_uri": "https://localhost:8080/"
        },
        "id": "KupOvGs7D78m",
        "outputId": "c9dcd89b-81b8-4dc9-dbf5-6df65a1bea2b"
      },
      "execution_count": null,
      "outputs": [
        {
          "output_type": "stream",
          "name": "stdout",
          "text": [
            "<class 'pandas.core.frame.DataFrame'>\n",
            "Int64Index: 36781 entries, 0 to 36780\n",
            "Data columns (total 13 columns):\n",
            " #   Column                 Non-Null Count  Dtype  \n",
            "---  ------                 --------------  -----  \n",
            " 0   license                36781 non-null  int64  \n",
            " 1   file_name              36781 non-null  object \n",
            " 2   height                 36781 non-null  int64  \n",
            " 3   width                  36781 non-null  int64  \n",
            " 4   segmentation           36781 non-null  object \n",
            " 5   area                   36781 non-null  float64\n",
            " 6   iscrowd                36781 non-null  int64  \n",
            " 7   image_id               36781 non-null  int64  \n",
            " 8   bbox                   36781 non-null  object \n",
            " 9   category_id            36781 non-null  int64  \n",
            " 10  object_id              36781 non-null  int64  \n",
            " 11  category_name_encoded  36781 non-null  int64  \n",
            " 12  supercategory_encoded  36781 non-null  int64  \n",
            "dtypes: float64(1), int64(9), object(3)\n",
            "memory usage: 4.9+ MB\n"
          ]
        }
      ]
    },
    {
      "cell_type": "code",
      "source": [
        "from torch.utils.data import Dataset\n",
        "from pycocotools import mask as maskUtils\n",
        "\n",
        "class CustomCocoDataset(Dataset):\n",
        "    def __init__(self, dataframe, image_dir, transforms=None):\n",
        "\n",
        "        self.dataframe = dataframe\n",
        "        self.image_dir = image_dir\n",
        "        self.transforms = transforms\n",
        "\n",
        "    def __len__(self):\n",
        "        return len(self.dataframe)\n",
        "\n",
        "    def __getitem__(self, idx):\n",
        "        img_info = self.dataframe.iloc[idx]\n",
        "        path = os.path.join(self.image_dir, img_info['file_name'])\n",
        "        image = Image.open(path).convert(\"RGB\")\n",
        "        img_width, img_height = image.size\n",
        "\n",
        "        annotations = self.dataframe[self.dataframe['image_id'] == img_info['image_id']]\n",
        "        annotations = annotations[annotations['category_name_encoded'] == 49]\n",
        "\n",
        "        boxes = []\n",
        "        masks = []\n",
        "        for _, ann in annotations.iterrows():\n",
        "            # 바운딩 박스 처리\n",
        "            bbox = ann['bbox']\n",
        "            x_min, y_min, width, height = bbox\n",
        "            x_max = x_min + width\n",
        "            y_max = y_min + height\n",
        "            boxes.append([x_min, y_min, x_max, y_max])\n",
        "\n",
        "            # 세그멘테이션 처리\n",
        "            segmentation_info = ann['segmentation']\n",
        "            binary_mask = np.zeros((img_height, img_width), dtype=np.uint8)\n",
        "            if isinstance(segmentation_info, dict):\n",
        "                binary_mask = maskUtils.decode(segmentation_info).squeeze()\n",
        "\n",
        "            elif isinstance(segmentation_info, list):\n",
        "                for polygon in segmentation_info:\n",
        "\n",
        "                    if isinstance(polygon, list):  # 다각형 좌표 리스트\n",
        "                        rle = maskUtils.frPyObjects([polygon], img_height, img_width)[0] # rle 객체 리스트중 첫번째\n",
        "                        binary_mask |= maskUtils.decode(rle).squeeze()\n",
        "\n",
        "                    elif isinstance(polygon, dict):  # RLE 형식의 딕셔너리\n",
        "                        binary_mask |= maskUtils.decode(polygon).squeeze()\n",
        "\n",
        "            masks.append(binary_mask)\n",
        "\n",
        "        boxes = torch.as_tensor(boxes, dtype=torch.float32)\n",
        "        masks = np.array(masks, dtype=np.uint8)  # 리스트를 numpy 배열로 변환\n",
        "        masks = torch.as_tensor(masks, dtype=torch.uint8)  # numpy 배열을 tensor로 변환\n",
        "        labels = torch.ones((len(boxes),), dtype=torch.int64)\n",
        "        image_id = torch.tensor([img_info['image_id']])\n",
        "        iscrowd = torch.zeros((len(boxes),), dtype=torch.int64)\n",
        "\n",
        "        target = {\n",
        "            'boxes': boxes,\n",
        "            'labels': labels,\n",
        "            'masks': masks,\n",
        "            'image_id': image_id,\n",
        "            'iscrowd': iscrowd\n",
        "        }\n",
        "\n",
        "        if self.transforms is not None:\n",
        "            image = self.transforms(image)\n",
        "\n",
        "        return image, target\n"
      ],
      "metadata": {
        "id": "tgpHNkFe1ntA"
      },
      "execution_count": null,
      "outputs": []
    },
    {
      "cell_type": "code",
      "source": [
        "from torchvision.transforms import transforms\n",
        "\n",
        "# 이미지 변환 정의\n",
        "train_transforms = transforms.Compose([\n",
        "    transforms.Resize((800, 256)),\n",
        "    transforms.ToTensor(),\n",
        "    transforms.Normalize(mean=[0.485, 0.456, 0.406], std=[0.229, 0.224, 0.225]),\n",
        "])\n",
        "\n",
        "val_transforms = transforms.Compose([\n",
        "    transforms.Resize((256, 256)),\n",
        "    transforms.ToTensor(),\n",
        "    transforms.Normalize(mean=[0.485, 0.456, 0.406], std=[0.229, 0.224, 0.225]),\n",
        "])\n"
      ],
      "metadata": {
        "id": "M9-70joc5hg-"
      },
      "execution_count": null,
      "outputs": []
    },
    {
      "cell_type": "code",
      "source": [
        "# train_df와 val_df에서 사용자 정의 데이터셋 생성\n",
        "train_dataset = CustomCocoDataset(dataframe=train_df, image_dir='/content/train2017/',\n",
        "                                  transforms=train_transforms)\n",
        "val_dataset = CustomCocoDataset(dataframe=val_df, image_dir='/content/val2017/',\n",
        "                                transforms=val_transforms)"
      ],
      "metadata": {
        "id": "qBYG6Uvb5hfC"
      },
      "execution_count": null,
      "outputs": []
    },
    {
      "cell_type": "code",
      "source": [
        "from torch.utils.data import DataLoader\n",
        "\n",
        "def collate_fn(batch):\n",
        "    images = [item[0] for item in batch]  # 이미지 데이터\n",
        "    targets = [item[1] for item in batch]  # 타겟 데이터\n",
        "\n",
        "    # 이미지들을 torch.stack을 사용하여 하나의 배치로 합침\n",
        "    images = torch.stack(images, dim=0)\n",
        "\n",
        "    return images, targets\n",
        "\n",
        "# 데이터 로더 생성\n",
        "train_loader = DataLoader(train_dataset, batch_size=4, shuffle=True, num_workers=4, collate_fn=collate_fn)\n",
        "val_loader = DataLoader(val_dataset, batch_size=4, shuffle=False, num_workers=4, collate_fn=collate_fn)"
      ],
      "metadata": {
        "id": "tK9kcVEKI5BQ"
      },
      "execution_count": null,
      "outputs": []
    },
    {
      "cell_type": "code",
      "source": [
        "images, targets = next(iter(train_loader))\n",
        "print(images.shape)\n",
        "# targets는 딕셔너리 리스트이므로, 각 타겟의 형태를 직접 확인."
      ],
      "metadata": {
        "colab": {
          "base_uri": "https://localhost:8080/"
        },
        "id": "BjPQOz50SEgy",
        "outputId": "e1585622-5287-4e22-f7e9-42e654ff2a08"
      },
      "execution_count": null,
      "outputs": [
        {
          "output_type": "stream",
          "name": "stdout",
          "text": [
            "torch.Size([4, 3, 256, 256])\n"
          ]
        }
      ]
    },
    {
      "cell_type": "code",
      "source": [
        "# `targets` 리스트의 각 요소에 대해 반복하여 정보를 출력합니다.\n",
        "for i, target in enumerate(targets):\n",
        "    # i는 이미지 인덱스, target은 해당 이미지에 대한 정보(딕셔너리)입니다.\n",
        "    print(f\"Image {i} - boxes: {target['boxes']}\")\n",
        "    print(f\"Image {i} - labels: {target['labels']}\")\n",
        "    print(f\"Image {i} - iscrowd: {target['iscrowd']}\")\n",
        "    print(f\"Image {i} - masks: {target['masks']}\")\n",
        "    print(f\"Image {i} - image_id: {target['image_id']}\")"
      ],
      "metadata": {
        "id": "vtaz71_j5qFU",
        "colab": {
          "base_uri": "https://localhost:8080/"
        },
        "outputId": "f776b867-60e2-475c-a203-ae41bd49e2ec"
      },
      "execution_count": null,
      "outputs": [
        {
          "output_type": "stream",
          "name": "stdout",
          "text": [
            "Image 0 - boxes: tensor([])\n",
            "Image 0 - labels: tensor([], dtype=torch.int64)\n",
            "Image 0 - iscrowd: tensor([], dtype=torch.int64)\n",
            "Image 0 - masks: tensor([], dtype=torch.uint8)\n",
            "Image 0 - image_id: tensor([47916])\n",
            "Image 1 - boxes: tensor([[  1.8300,  36.6500, 524.9400, 417.7500]])\n",
            "Image 1 - labels: tensor([1])\n",
            "Image 1 - iscrowd: tensor([0])\n",
            "Image 1 - masks: tensor([[[0, 0, 0,  ..., 0, 0, 0],\n",
            "         [0, 0, 0,  ..., 0, 0, 0],\n",
            "         [0, 0, 0,  ..., 0, 0, 0],\n",
            "         ...,\n",
            "         [0, 0, 0,  ..., 0, 0, 0],\n",
            "         [0, 0, 0,  ..., 0, 0, 0],\n",
            "         [0, 0, 0,  ..., 0, 0, 0]]], dtype=torch.uint8)\n",
            "Image 1 - image_id: tensor([421393])\n",
            "Image 2 - boxes: tensor([])\n",
            "Image 2 - labels: tensor([], dtype=torch.int64)\n",
            "Image 2 - iscrowd: tensor([], dtype=torch.int64)\n",
            "Image 2 - masks: tensor([], dtype=torch.uint8)\n",
            "Image 2 - image_id: tensor([236515])\n",
            "Image 3 - boxes: tensor([[148.3600,  52.8800, 288.8000, 286.7600],\n",
            "        [415.2800, 176.8300, 445.6900, 256.0100],\n",
            "        [396.7700, 177.9800, 420.5700, 249.5700],\n",
            "        [349.0700, 186.6300, 361.4400, 218.4400],\n",
            "        [362.6400, 181.7400, 374.7000, 216.5100],\n",
            "        [324.1300, 173.6500, 351.4400, 210.4200],\n",
            "        [512.7900, 184.3000, 525.0500, 212.4800],\n",
            "        [382.1000, 185.9200, 397.3300, 222.0700],\n",
            "        [495.5300, 184.8300, 506.0700, 211.4100],\n",
            "        [506.9900, 185.8700, 514.0500, 204.2800],\n",
            "        [569.2600, 189.4200, 626.8300, 340.0100],\n",
            "        [319.2700, 182.3600, 327.1900, 192.2600],\n",
            "        [305.4700, 182.3000, 310.0400, 186.2900]])\n",
            "Image 3 - labels: tensor([1, 1, 1, 1, 1, 1, 1, 1, 1, 1, 1, 1, 1])\n",
            "Image 3 - iscrowd: tensor([0, 0, 0, 0, 0, 0, 0, 0, 0, 0, 0, 0, 0])\n",
            "Image 3 - masks: tensor([[[0, 0, 0,  ..., 0, 0, 0],\n",
            "         [0, 0, 0,  ..., 0, 0, 0],\n",
            "         [0, 0, 0,  ..., 0, 0, 0],\n",
            "         ...,\n",
            "         [0, 0, 0,  ..., 0, 0, 0],\n",
            "         [0, 0, 0,  ..., 0, 0, 0],\n",
            "         [0, 0, 0,  ..., 0, 0, 0]],\n",
            "\n",
            "        [[0, 0, 0,  ..., 0, 0, 0],\n",
            "         [0, 0, 0,  ..., 0, 0, 0],\n",
            "         [0, 0, 0,  ..., 0, 0, 0],\n",
            "         ...,\n",
            "         [0, 0, 0,  ..., 0, 0, 0],\n",
            "         [0, 0, 0,  ..., 0, 0, 0],\n",
            "         [0, 0, 0,  ..., 0, 0, 0]],\n",
            "\n",
            "        [[0, 0, 0,  ..., 0, 0, 0],\n",
            "         [0, 0, 0,  ..., 0, 0, 0],\n",
            "         [0, 0, 0,  ..., 0, 0, 0],\n",
            "         ...,\n",
            "         [0, 0, 0,  ..., 0, 0, 0],\n",
            "         [0, 0, 0,  ..., 0, 0, 0],\n",
            "         [0, 0, 0,  ..., 0, 0, 0]],\n",
            "\n",
            "        ...,\n",
            "\n",
            "        [[0, 0, 0,  ..., 0, 0, 0],\n",
            "         [0, 0, 0,  ..., 0, 0, 0],\n",
            "         [0, 0, 0,  ..., 0, 0, 0],\n",
            "         ...,\n",
            "         [0, 0, 0,  ..., 0, 0, 0],\n",
            "         [0, 0, 0,  ..., 0, 0, 0],\n",
            "         [0, 0, 0,  ..., 0, 0, 0]],\n",
            "\n",
            "        [[0, 0, 0,  ..., 0, 0, 0],\n",
            "         [0, 0, 0,  ..., 0, 0, 0],\n",
            "         [0, 0, 0,  ..., 0, 0, 0],\n",
            "         ...,\n",
            "         [0, 0, 0,  ..., 0, 0, 0],\n",
            "         [0, 0, 0,  ..., 0, 0, 0],\n",
            "         [0, 0, 0,  ..., 0, 0, 0]],\n",
            "\n",
            "        [[0, 0, 0,  ..., 0, 0, 0],\n",
            "         [0, 0, 0,  ..., 0, 0, 0],\n",
            "         [0, 0, 0,  ..., 0, 0, 0],\n",
            "         ...,\n",
            "         [0, 0, 0,  ..., 0, 0, 0],\n",
            "         [0, 0, 0,  ..., 0, 0, 0],\n",
            "         [0, 0, 0,  ..., 0, 0, 0]]], dtype=torch.uint8)\n",
            "Image 3 - image_id: tensor([250645])\n"
          ]
        }
      ]
    },
    {
      "cell_type": "code",
      "source": [
        "import matplotlib.patches as patches\n",
        "\n",
        "# 이미지와 타겟 데이터를 시각화\n",
        "def visualize_image_with_targets(image, target, image_id):\n",
        "    fig, ax = plt.subplots(1)\n",
        "    ax.imshow(image.permute(1, 2, 0))  # 이미지의 차원을 (C, H, W)에서 (H, W, C)로 변경\n",
        "\n",
        "    # 바운딩 박스를 이미지 위에 그립니다.\n",
        "    for box in target['boxes']:\n",
        "        x_min, y_min, x_max, y_max = box\n",
        "        rect = patches.Rectangle((x_min, y_min), x_max - x_min, y_max - y_min, linewidth=2, edgecolor='r', facecolor='none')\n",
        "        ax.add_patch(rect)\n",
        "\n",
        "    # 세그멘테이션 마스크를 이미지 위에 그립니다. (선택적)\n",
        "    # 마스크가 여러 개 있는 경우\n",
        "    for mask in target['masks']:\n",
        "        ax.imshow(mask, cmap='gray', alpha=0.5)  # 마스크를 반투명하게 표시\n",
        "\n",
        "    plt.title(f\"Image ID: {image_id.item()}\")\n",
        "    plt.show()"
      ],
      "metadata": {
        "id": "_1k9I8LX5qDB"
      },
      "execution_count": null,
      "outputs": []
    },
    {
      "cell_type": "code",
      "source": [
        "visualize_image_with_targets(images[1], targets[1], targets[1]['image_id'])"
      ],
      "metadata": {
        "id": "9ElGxoHi5qBL",
        "colab": {
          "base_uri": "https://localhost:8080/",
          "height": 431
        },
        "outputId": "e54ea4e7-6e5e-4447-91b0-2b0993ecd34f"
      },
      "execution_count": null,
      "outputs": [
        {
          "output_type": "stream",
          "name": "stderr",
          "text": [
            "WARNING:matplotlib.image:Clipping input data to the valid range for imshow with RGB data ([0..1] for floats or [0..255] for integers).\n"
          ]
        },
        {
          "output_type": "display_data",
          "data": {
            "text/plain": [
              "<Figure size 640x480 with 1 Axes>"
            ],
            "image/png": "[encoded data removed]"
          },
          "metadata": {}
        }
      ]
    },
    {
      "cell_type": "code",
      "source": [],
      "metadata": {
        "id": "DbtWv79C5p9a"
      },
      "execution_count": null,
      "outputs": []
    },
    {
      "cell_type": "code",
      "source": [],
      "metadata": {
        "id": "-KMtYEOJ5p7b"
      },
      "execution_count": null,
      "outputs": []
    },
    {
      "cell_type": "code",
      "source": [],
      "metadata": {
        "id": "GFboCLDe5p5o"
      },
      "execution_count": null,
      "outputs": []
    },
    {
      "cell_type": "code",
      "source": [],
      "metadata": {
        "id": "Q4GtJ6qs5p3h"
      },
      "execution_count": null,
      "outputs": []
    }
  ]
}
